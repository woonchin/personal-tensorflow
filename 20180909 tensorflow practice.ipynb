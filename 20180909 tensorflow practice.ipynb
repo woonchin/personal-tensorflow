{
 "cells": [
  {
   "cell_type": "code",
   "execution_count": 1,
   "metadata": {
    "collapsed": true
   },
   "outputs": [],
   "source": [
    "import tensorflow as tf\n",
    "import numpy as np"
   ]
  },
  {
   "cell_type": "code",
   "execution_count": 2,
   "metadata": {
    "collapsed": true
   },
   "outputs": [],
   "source": [
    "#create data\n",
    "x_data= np.random.rand(100).astype(np.float32)\n",
    "y_data= x_data*0.1+0.3"
   ]
  },
  {
   "cell_type": "code",
   "execution_count": 3,
   "metadata": {
    "collapsed": false
   },
   "outputs": [
    {
     "name": "stdout",
     "output_type": "stream",
     "text": [
      "0 [ 0.88216591] [ 0.]\n",
      "20 [ 0.90297627] [ 0.]\n",
      "40 [ 0.58555532] [ 0.]\n",
      "60 [ 0.88754392] [ 0.]\n",
      "80 [-0.0741477] [ 0.]\n",
      "100 [-0.75126529] [ 0.]\n",
      "120 [-0.59170294] [ 0.]\n",
      "140 [ 0.80827856] [ 0.]\n",
      "160 [-0.60472107] [ 0.]\n",
      "180 [-0.73059511] [ 0.]\n",
      "200 [-0.49343896] [ 0.]\n"
     ]
    }
   ],
   "source": [
    "#create tensorflow strcture Start\n",
    "Weights = tf.Variable(tf.random_uniform([1], -1.0, 1.0))\n",
    "biases = tf.Variable(tf.zeros([1]))\n",
    "\n",
    "y=Weights*x_data+biases\n",
    "loss=tf.reduce_mean(tf.square(y-y_data))\n",
    "optizmizer  = tf.train.GradientDescentOptimizer(0.5)\n",
    "train  = optizmizer.minimize(loss)\n",
    "\n",
    "init = tf.global_variables_initializer()  \n",
    "#init = tf.initialize_all_tables()\n",
    "#create tensorflow strcture END\n",
    "sess = tf.Session()\n",
    "sess.run(init) \n",
    "\n",
    "for step in range(201):\n",
    "    sess.run(init)\n",
    "    if step % 20 ==0:\n",
    "        print(step,sess.run(Weights),sess.run(biases))"
   ]
  },
  {
   "cell_type": "code",
   "execution_count": 4,
   "metadata": {
    "collapsed": false
   },
   "outputs": [
    {
     "name": "stdout",
     "output_type": "stream",
     "text": [
      "<tf.Variable 'Variable:0' shape=(1,) dtype=float32_ref>\n"
     ]
    }
   ],
   "source": [
    "print(Weights)"
   ]
  },
  {
   "cell_type": "code",
   "execution_count": 5,
   "metadata": {
    "collapsed": true
   },
   "outputs": [],
   "source": [
    "matrix1 = tf.constant([[3,3]])\n",
    "matrix2 = tf.constant([[2],\n",
    "                       [2]])\n",
    "product  = tf.matmul(matrix1,matrix2)"
   ]
  },
  {
   "cell_type": "code",
   "execution_count": 6,
   "metadata": {
    "collapsed": false
   },
   "outputs": [
    {
     "name": "stdout",
     "output_type": "stream",
     "text": [
      "Tensor(\"MatMul:0\", shape=(1, 1), dtype=int32)\n"
     ]
    }
   ],
   "source": [
    "print (product)"
   ]
  },
  {
   "cell_type": "code",
   "execution_count": 8,
   "metadata": {
    "collapsed": false
   },
   "outputs": [
    {
     "name": "stdout",
     "output_type": "stream",
     "text": [
      "[[12]]\n",
      "(1, 1)\n"
     ]
    }
   ],
   "source": [
    "sess = tf.Session()\n",
    "result = sess.run(product)\n",
    "print(result)\n",
    "print(result.shape)\n",
    "sess.close()"
   ]
  },
  {
   "cell_type": "code",
   "execution_count": 9,
   "metadata": {
    "collapsed": false
   },
   "outputs": [
    {
     "name": "stdout",
     "output_type": "stream",
     "text": [
      "1\n",
      "2\n",
      "3\n"
     ]
    }
   ],
   "source": [
    "# Variable scope\n",
    "#define variable with name \n",
    "state = tf.Variable(0,name='counter')\n",
    "#define constant\n",
    "one  = tf.constant(1)\n",
    "# define new value , but this process did not include Calcluation\n",
    "new_value = tf.add(state,one)\n",
    "update = tf.assign(state,new_value)\n",
    "\n",
    "# 如果定义 Variable, 就一定要 initialize\n",
    "init = tf.global_variables_initializer()\n",
    "\n",
    "#use session to activate\n",
    "with tf.Session() as sess:\n",
    "    sess.run(init)\n",
    "    for _ in range(3):\n",
    "        sess.run(update)\n",
    "        print (sess.run(state))\n",
    "        \n",
    "#注意：直接 print(state) 不起作用！！\n",
    "#一定要把 sess 的指针指向 state 再进行 print 才能得到想要的结果！"
   ]
  },
  {
   "cell_type": "code",
   "execution_count": 11,
   "metadata": {
    "collapsed": false
   },
   "outputs": [
    {
     "name": "stdout",
     "output_type": "stream",
     "text": [
      "[ 66.23999786]\n"
     ]
    }
   ],
   "source": [
    "input1=tf.placeholder(tf.float32)\n",
    "input2=tf.placeholder(tf.float32)\n",
    "\n",
    "output = tf.multiply(input1,input2)\n",
    "\n",
    "with tf.Session() as sess:\n",
    "    print(sess.run(output,feed_dict={input1:[7.2],input2:[9.2]}))\n",
    "\n",
    "#需要传入的值放在了feed_dict={} 并一一对应每一个 input. \n",
    "#placeholder 与 feed_dict={} 是绑定在一起出现的\n",
    "#Note that we haven’t defined any initial values for placeholder yet.\n"
   ]
  },
  {
   "cell_type": "code",
   "execution_count": 12,
   "metadata": {
    "collapsed": false
   },
   "outputs": [
    {
     "data": {
      "text/plain": [
       "66.24"
      ]
     },
     "execution_count": 12,
     "metadata": {},
     "output_type": "execute_result"
    }
   ],
   "source": [
    "7.2*9.2"
   ]
  },
  {
   "cell_type": "code",
   "execution_count": null,
   "metadata": {
    "collapsed": true
   },
   "outputs": [],
   "source": []
  }
 ],
 "metadata": {
  "kernelspec": {
   "display_name": "Python 3",
   "language": "python",
   "name": "python3"
  },
  "language_info": {
   "codemirror_mode": {
    "name": "ipython",
    "version": 3
   },
   "file_extension": ".py",
   "mimetype": "text/x-python",
   "name": "python",
   "nbconvert_exporter": "python",
   "pygments_lexer": "ipython3",
   "version": "3.6.0"
  }
 },
 "nbformat": 4,
 "nbformat_minor": 2
}
